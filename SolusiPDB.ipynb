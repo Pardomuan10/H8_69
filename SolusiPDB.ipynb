{
 "cells": [
  {
   "cell_type": "markdown",
   "id": "bd39c96a",
   "metadata": {},
   "source": [
    "Diberikan masalah nilai awal,persamaan diferensial linier oede-2 $ay''+by'+cy=0$ dengan kondisi awal $y(0)=y_0$ dan $y'(0)=y'_0$.  Tentukan masalah nilai awal tersebut."
   ]
  },
  {
   "cell_type": "code",
   "execution_count": 26,
   "id": "20c747d8",
   "metadata": {
    "scrolled": true
   },
   "outputs": [
    {
     "name": "stdout",
     "output_type": "stream",
     "text": [
      "Masukkan nilai a, b, c, y0 dan ya0:\n",
      "a=1\n",
      "b=2\n",
      "c=1\n",
      "y0=1\n",
      "ya0=1\n",
      "solusi nya adalah:\n",
      "y= (1 + 2t)exp(-1.0t)\n"
     ]
    }
   ],
   "source": [
    "import math\n",
    "\n",
    "print('Masukkan nilai a, b, c, y0 dan ya0:')\n",
    "\n",
    "a=input('a=')\n",
    "a = eval(a)\n",
    "\n",
    "b=input('b=')\n",
    "b = eval(b)\n",
    "\n",
    "c=input('c=')\n",
    "c = eval(c)\n",
    "\n",
    "y0=input('y0=')\n",
    "y0 = eval(y0)\n",
    "\n",
    "ya0=input('ya0=')\n",
    "ya0 = eval(ya0)\n",
    "\n",
    "\n",
    "D=b**(2)-(4*a*c)\n",
    "\n",
    "\n",
    "\n",
    "if D>0:\n",
    "    r1=round((-b+D**(.5))/(2*a),2)\n",
    "    r2=round((-b-D**(.5))/(2*a),2)\n",
    "    c1=round((y0*r2-ya0)/(r2-r1),2)\n",
    "    c2=round((r2-ya0)/(r2-r1),2)\n",
    "    print('solusi nya adalah:')\n",
    "    print('y={}exp {}t + {} exp {} t'.format(c1,r1,c2,r2))\n",
    "    \n",
    "elif D==0:\n",
    "    r=round(-b/(2*a),2)\n",
    "    c1=y0\n",
    "    c2=round(ya0-r*c1)\n",
    "    print('solusi nya adalah:')\n",
    "    print('y= ({} + {}t)exp({}t)'.format(c1,c2,r))\n",
    "elif D<0 :\n",
    "    alf=round(-b/(2*a),2)\n",
    "    bet=round((-D)**(.5)/(2*a),2)\n",
    "    c1=y0\n",
    "    c2=round((ya0-alf*c1)/bet,2)\n",
    "    print('solusi nya adalah:')\n",
    "    print('y={} exp({}t) cos({} t) + {} exp({}t) sin({} t) '.format(c1,alf,bet,c2,alf,bet))\n"
   ]
  },
  {
   "cell_type": "code",
   "execution_count": 20,
   "id": "e603f19b",
   "metadata": {},
   "outputs": [
    {
     "data": {
      "text/plain": [
       "1.98"
      ]
     },
     "execution_count": 20,
     "metadata": {},
     "output_type": "execute_result"
    }
   ],
   "source": [
    "be=round(bet,2)\n",
    "be"
   ]
  }
 ],
 "metadata": {
  "kernelspec": {
   "display_name": "Python 3",
   "language": "python",
   "name": "python3"
  },
  "language_info": {
   "codemirror_mode": {
    "name": "ipython",
    "version": 3
   },
   "file_extension": ".py",
   "mimetype": "text/x-python",
   "name": "python",
   "nbconvert_exporter": "python",
   "pygments_lexer": "ipython3",
   "version": "3.8.8"
  }
 },
 "nbformat": 4,
 "nbformat_minor": 5
}
